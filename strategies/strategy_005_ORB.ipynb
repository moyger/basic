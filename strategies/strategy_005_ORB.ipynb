{
 "cells": [
  {
   "cell_type": "code",
   "execution_count": 1,
   "metadata": {},
   "outputs": [],
   "source": [
    "# Import libraries\n",
    "import pandas as pd\n",
    "import numpy as np\n",
    "import time\n",
    "from IPython.display import clear_output\n",
    "import matplotlib.pyplot as plt\n",
    "from datetime import datetime\n",
    "import plotly.graph_objects as go"
   ]
  },
  {
   "cell_type": "code",
   "execution_count": 2,
   "metadata": {},
   "outputs": [],
   "source": [
    "timeframe = \"M15\"\n",
    "symbols = [\"SPX500\"]\n",
    "systems = [\"Strat\"]\n",
    "starting_balance = 100\n",
    "risk_per_trade = 0.02 # Risking 2% per trade\n",
    "market_open_time = \"09:30\"\n",
    "opening_range_minutes = 15\n",
    "market_close_time = \"16:45\"\n",
    "latest_entry_time = \"11:59\"\n",
    "exit_eod = False\n",
    "one_per_day = False"
   ]
  },
  {
   "cell_type": "code",
   "execution_count": 3,
   "metadata": {},
   "outputs": [],
   "source": [
    "# Load CSV File\n",
    "def get_price_data(symbol):\n",
    "    df = pd.read_csv(f\"../data/{symbol}_{timeframe}.csv\", parse_dates=['Datetime'], index_col='Datetime')\n",
    "    df.index = pd.to_datetime(df.index, utc=True).tz_convert(\"America/New_York\")  # Keeps local timezone without converting to UTC\n",
    "    return df"
   ]
  },
  {
   "cell_type": "code",
   "execution_count": 4,
   "metadata": {},
   "outputs": [],
   "source": [
    "def calculate_inputs(df):\n",
    "  \n",
    "    # Ensure the Datetime column is a datetime object\n",
    "    df.index = pd.to_datetime(df.index)\n",
    "    df['Date'] = df.index.date\n",
    "    df['Time'] = df.index.time\n",
    "    df['Last_Candle'] = df['Date'] != df['Date'].shift(-1)\n",
    "\n",
    "    # Calculate the opening range end time\n",
    "    opening_range_end_time = (pd.Timestamp.combine(pd.Timestamp.today(), pd.to_datetime(market_open_time, format=\"%H:%M\").time()) \n",
    "                            + pd.Timedelta(minutes=opening_range_minutes)).time()\n",
    "\n",
    "    # Filter the DataFrame for the opening range period\n",
    "    df_open_range = df[\n",
    "        (df['Time'] >= pd.to_datetime(market_open_time, format=\"%H:%M\").time()) & \n",
    "        (df['Time'] < opening_range_end_time)\n",
    "    ]\n",
    "\n",
    "    # Group by each trading day and calculate the high and low for that range\n",
    "    opening_range = df_open_range.groupby('Date').agg(\n",
    "        Open_Range_High=('High', 'max'),\n",
    "        Open_Range_Low=('Low', 'min')\n",
    "    )\n",
    "\n",
    "    # Merge the opening range back to the original DataFrame without resetting the index\n",
    "    df = df.join(opening_range, on='Date')\n",
    "\n",
    "    # Drop the 'Time' and 'Date' columns if no longer needed\n",
    "    df = df.drop(['Time', 'Date'], axis=1)\n",
    "\n",
    "    return df"
   ]
  },
  {
   "cell_type": "code",
   "execution_count": 5,
   "metadata": {},
   "outputs": [],
   "source": [
    "def generate_signals(df, s, atr_sl, tp_ratio):\n",
    "    # Get hour values\n",
    "    df[\"Hour\"] = df.index.hour\n",
    "\n",
    "    # Calculate the end time for the opening range\n",
    "    opening_range_end_time = (pd.Timestamp(market_open_time) + pd.Timedelta(minutes=opening_range_minutes)).time()\n",
    "    \n",
    "    # Various entry conditions\n",
    "    c1 = (df['Open'] <= df['Open_Range_High']) & (df['Close'] > df['Open_Range_High'])  # Breakout above opening range (long signal)\n",
    "    c2 = (df.index.time > opening_range_end_time) & (df.index.time < pd.Timestamp(market_close_time).time())\n",
    "    c3 = df['Open_Range_High'].notna() # Check that the current candle actually has a range. The sunday candles on CFDs can open in the evening\n",
    "    c4 = df.index.time <= pd.Timestamp(latest_entry_time).time()\n",
    "\n",
    "    #generate entries and exits\n",
    "    #entry is taken if the conditions were met at yesterday's close\n",
    "    # Entries depend on the strategy\n",
    "    if s == \"Strat\":\n",
    "        # default entry rules\n",
    "        df[f\"{s}_Signal\"] = c1.shift(1) & c2 & c3 & c4\n",
    "\n",
    "    # Generate exits    \n",
    "    df['SL'] = df['Open_Range_Low']\n",
    "    stop_dist = df['Open'] - df['SL']\n",
    "    df['TP'] = df['Open'] + stop_dist * tp_ratio\n",
    "\n",
    "    if one_per_day:\n",
    "        # Initialize dictionary to keep track of the first signal of each day\n",
    "        first_signal_of_day = {}\n",
    "\n",
    "        # Convert index to date for quick lookups\n",
    "        dates = df.index.date  # This is already a numpy.ndarray\n",
    "\n",
    "        # Iterate over the DataFrame using NumPy arrays for performance\n",
    "        signal_array = df[f\"{s}_Signal\"].to_numpy()\n",
    "\n",
    "        # Loop through the DataFrame to only keep the first signal per day\n",
    "        for i in range(len(df)):\n",
    "            current_date = dates[i]\n",
    "            if current_date not in first_signal_of_day and signal_array[i]:\n",
    "                # Mark the first signal of the day\n",
    "                first_signal_of_day[current_date] = True\n",
    "            else:\n",
    "                # Set the signal to False for any subsequent signals of the day\n",
    "                signal_array[i] = False\n",
    "\n",
    "        # Update the DataFrame with the optimized signal array\n",
    "        df[f\"{s}_Signal\"] = signal_array\n",
    "    \n",
    "    return df"
   ]
  },
  {
   "cell_type": "code",
   "execution_count": 6,
   "metadata": {},
   "outputs": [],
   "source": [
    "def generate_trades(df, s):\n",
    "    #create empty list for trades\n",
    "    trades_list = []\n",
    "    trade_open = False\n",
    "    open_change = {}\n",
    "    balance = starting_balance\n",
    "    equity = starting_balance\n",
    "    balance_history = []\n",
    "    equity_history = []\n",
    "    \n",
    "    #iterate through rows to work out entries and exits\n",
    "    for i, row in df.iterrows():\n",
    "        #if there is currently no trade\n",
    "        if not trade_open:\n",
    "            #check if long signal was generated and enter at the same time\n",
    "            if row[f\"{s}_Signal\"] == True:\n",
    "                entry_date = i\n",
    "                entry_price = row.Open\n",
    "                sl = row.SL\n",
    "                tp = row.TP\n",
    "                # Calculate position size based on risk percentage\n",
    "                risk_amount = balance * risk_per_trade\n",
    "                position_size = risk_amount / abs(entry_price - sl)  # Position size in units\n",
    "                trade_open = True\n",
    "        #check if a trade is already open\n",
    "        if trade_open:\n",
    "            #get price values\n",
    "            low = row.Low\n",
    "            high = row.High\n",
    "            # Track the open change while the trade is open to monitor balance during the trade.\n",
    "            open_change[i] = low / entry_price\n",
    "\n",
    "            # Calculate unrealized PnL\n",
    "            floating_pnl = (high - entry_price) * position_size\n",
    "            equity = balance + floating_pnl  # Update equity dynamically\n",
    "\n",
    "            # Calculate unrealized PnL\n",
    "            #check if stop is hit\n",
    "            if low <= sl:\n",
    "                #first check for a gap down\n",
    "                if row.Open <= sl:\n",
    "                    exit_price = row.Open\n",
    "                else:\n",
    "                    exit_price = sl\n",
    "                trade_open = False\n",
    "\n",
    "            # Now do the same check for take profit\n",
    "            elif high >= tp:\n",
    "                #first check for a gap up\n",
    "                if row.Open >= tp:\n",
    "                    exit_price = row.Open\n",
    "                else:\n",
    "                    exit_price = tp\n",
    "                trade_open = False\n",
    "\n",
    "            elif exit_eod:\n",
    "                if (i.time() == datetime.strptime(market_close_time, '%H:%M').time()) or row.Last_Candle:\n",
    "                    exit_price = row.Close  # Close at the market close price\n",
    "                    trade_open = False\n",
    "\n",
    "            if not trade_open: # If trade has been closed\n",
    "                exit_date = i\n",
    "                trade_open = False\n",
    "                pnl = (exit_price - entry_price) * position_size  # PnL in currency terms\n",
    "                balance += pnl  # Update balance with PnL\n",
    "\n",
    "                #store trade data in a list\n",
    "                trade = [entry_date, entry_price, exit_date, exit_price, position_size, pnl, balance, True]\n",
    "                #append trade to overall trade list\n",
    "                trades_list.append(trade)\n",
    "\n",
    "        # Store balance and equity\n",
    "        balance_history.append(balance)\n",
    "        equity_history.append(equity)\n",
    "\n",
    "    trades = pd.DataFrame(trades_list, columns=[\"Entry_Date\", \"Entry_Price\", \"Exit_Date\", \"Exit_Price\", \"Position_Size\", \"PnL\", \"Balance\", \"Sys_Trade\"])\n",
    "    \n",
    "    #calculate return of each trade as well as the trade duration\n",
    "    #trades[f\"{s}_Return\"] = trades.Exit_Price / trades.Entry_Price\n",
    "    trades[f\"{s}_Return\"] = trades.Balance / trades.Balance.shift(1)\n",
    "    dur = []\n",
    "    for i, row in trades.iterrows():\n",
    "        d1 = row.Entry_Date\n",
    "        d2 = row.Exit_Date\n",
    "        dur.append(np.busday_count(d1.date(), d2.date()) + 1)#Add 1 because formula doesn't include the end date otherwise\n",
    "    \n",
    "    trades[f\"{s}_Duration\"] = dur\n",
    "\n",
    "    #create a new dataframe with an index of exit dfs\n",
    "    returns = pd.DataFrame(index=trades.Exit_Date)\n",
    "    #create a new dataframe with an index of entries to track entry price\n",
    "    entries = pd.DataFrame(index=trades.Entry_Date)\n",
    "\n",
    "    entries[f\"{s}_Entry_Price\"] = pd.Series(trades.Entry_Price).values\n",
    "    #add the Return column to this new data frame\n",
    "    returns[f\"{s}_Ret\"] = pd.Series(trades[f\"{s}_Return\"]).values\n",
    "    returns[f\"{s}_Trade\"] = pd.Series(trades.Sys_Trade).values\n",
    "    returns[f\"{s}_Duration\"] = pd.Series(trades[f\"{s}_Duration\"]).values\n",
    "    returns[f\"{s}_PnL\"] = pd.Series(trades.PnL).values\n",
    "    returns[f\"{s}_Balance\"] = pd.Series(trades.Balance).values\n",
    "    change_ser = pd.Series(open_change, name=f\"{s}_Change\")\n",
    "\n",
    "    #add the returns from the trades to the main data frame\n",
    "    df = pd.concat([df, returns, entries, change_ser], axis=1)\n",
    "    #fill all the NaN return values with 1 as there was no profit or loss on those days\n",
    "    df[f\"{s}_Ret\"] = df[f\"{s}_Ret\"].fillna(1)\n",
    "    #fill all the NaN trade values with False as there was no trade on those days\n",
    "    df[f\"{s}_Trade\"] = df[f\"{s}_Trade\"].infer_objects(copy=False)\n",
    "    #fill all the NaN return values with 1 as there was no loss on those days\n",
    "    df[f\"{s}_Change\"] = df[f\"{s}_Change\"].astype(float).fillna(1)\n",
    "    \n",
    "    #use the updated balance and equity variables\n",
    "    df[f\"{s}_Bal\"] = pd.Series(balance_history, index=df.index).ffill()\n",
    "    df[f\"{s}_Equity\"] = pd.Series(equity_history, index=df.index).ffill()\n",
    "\n",
    "    active_trades = np.where(df[f\"{s}_Trade\"] == True, True, False)\n",
    "    df[f\"{s}_In_Market\"] = df[f\"{s}_Trade\"].copy()\n",
    "    #populate trades column based on duration\n",
    "    for count, t in enumerate(active_trades):\n",
    "        if t == True:\n",
    "            dur = df[f\"{s}_Duration\"].iat[count]\n",
    "            for i in range(int(dur)):\n",
    "                #starting from the exit date, move backwards and mark each trading day\n",
    "                df[f\"{s}_In_Market\"].iat[count - i] = True\n",
    "    \n",
    "    return df, trades"
   ]
  },
  {
   "cell_type": "code",
   "execution_count": 7,
   "metadata": {},
   "outputs": [],
   "source": [
    "def backtest(price, atr_sl, tp_ratio):\n",
    "    #calculate strategy inputs\n",
    "    price = calculate_inputs(price)\n",
    "\n",
    "    for s in systems:\n",
    "        #generate signals\n",
    "        price = generate_signals(price, s, atr_sl, tp_ratio)\n",
    "\n",
    "        #generate trades\n",
    "        price, trades = generate_trades(price, s)\n",
    "\n",
    "    for s in systems:\n",
    "        #calculate drawdown\n",
    "        price[f\"{s}_Peak\"] = price[f\"{s}_Bal\"].cummax()\n",
    "        price[f\"{s}_DD\"] = price[f\"{s}_Bal\"] - price[f\"{s}_Peak\"]\n",
    "\n",
    "    return price, trades"
   ]
  },
  {
   "cell_type": "code",
   "execution_count": 8,
   "metadata": {},
   "outputs": [
    {
     "name": "stdout",
     "output_type": "stream",
     "text": [
      "Progress: 100 %\n",
      "Total Time Elapsed: 2.236952066421509 s\n"
     ]
    }
   ],
   "source": [
    "results = []\n",
    "prog = 0\n",
    "sl_range = np.arange(0.0, 0.5, 0.5)\n",
    "tp_range = np.arange(1.5, 2.0, 0.5)\n",
    "max_prog = len(symbols) * len(sl_range) * len(tp_range)\n",
    "start_time = time.time()\n",
    "for sym in symbols:\n",
    "    price = get_price_data(sym)\n",
    "    for atr_sl in sl_range:\n",
    "        for tp_ratio in tp_range:\n",
    "            result, trades = backtest(price, atr_sl, tp_ratio)\n",
    "            results.append(result)\n",
    "            prog += 1\n",
    "            clear_output(wait=True)\n",
    "            print(f\"Progress: {round((prog / max_prog) * 100)} %\")\n",
    "end_time = time.time()\n",
    "print(f\"Total Time Elapsed: {end_time - start_time} s\")"
   ]
  },
  {
   "cell_type": "code",
   "execution_count": 9,
   "metadata": {},
   "outputs": [],
   "source": [
    "def get_metrics(system, data):\n",
    "    rfr = 0.03 # risk free return rate of 3%\n",
    "    if timeframe == \"daily\":\n",
    "        N = 252 # number of trading days per year\n",
    "    elif timeframe == \"hourly\":\n",
    "        N = 252 * 6.5 # number of trading hours per year (assuming 9:30 - 16:00 for NYSE)\n",
    "    elif timeframe == \"M15\":\n",
    "        N = 252 * 6.5 * 4\n",
    "    elif timeframe == \"M5\":\n",
    "        N = 252 * 6.5 * 12\n",
    "    metrics = {}\n",
    "    years = (data.index[-1] - data.index[0]).days / 365.25\n",
    "    sys_return = round(((data[f\"{system}_Bal\"].iloc[-1]/data[f\"{system}_Bal\"].iloc[0]) - 1) * 100, 2)\n",
    "    sys_cagr = round(((((data[f\"{system}_Bal\"].iloc[-1]/data[f\"{system}_Bal\"].iloc[0])**(1/years))-1)*100), 2)\n",
    "    sys_peak = data[f\"{system}_Bal\"].cummax()\n",
    "    sys_dd = round(((data[f\"{system}_DD\"] / data[f\"{system}_Peak\"]).min()) * 100, 2)\n",
    "    rod = sys_cagr / abs(sys_dd)\n",
    "    periods_in_market = data[f\"{system}_In_Market\"].sum()\n",
    " \n",
    "    win = data[f\"{system}_Ret\"] > 1\n",
    "    loss = data[f\"{system}_Ret\"] < 1\n",
    "    signals = data[f\"{system}_Signal\"].sum()\n",
    "    trades_triggered = data[f\"{system}_Trade\"].sum()\n",
    "    tim = round(periods_in_market / len(data) * 100, 2)\n",
    "    rbe = round((sys_cagr / tim) * 100, 2)\n",
    "    rbeod = rbe / abs(sys_dd) # return by exposure by drawdown (assuming drawdown doesn\"t scale as TIM increases. Could be wrong)\n",
    "    gaps = (data.Open > data[f\"{system}_Entry_Price\"]).sum()\n",
    "    non_gaps = (data.Open <= data[f\"{system}_Entry_Price\"]).sum()\n",
    "    wins = win.sum()\n",
    "    losses = loss.sum()\n",
    "    winrate = round(wins / (wins + losses) * 100, 2)\n",
    "    \n",
    "    # calculate the size of the move from the entry data to the close\n",
    "    ret_size = np.where(data[f\"{system}_Trade\"] == True, data[f\"{system}_Ret\"], 1)\n",
    "    avg_up_move = (data[f\"{system}_Ret\"][data[f\"{system}_Ret\"] > 1].mean() - 1) * 100\n",
    "    max_up_move = (data[f\"{system}_Ret\"].max() - 1) * 100\n",
    "    avg_down_move = (data[f\"{system}_Ret\"][data[f\"{system}_Ret\"] < 1].mean() - 1) * 100\n",
    "    max_down_move = (data[f\"{system}_Ret\"].min() - 1) * 100\n",
    "    avg_rr = round(abs(avg_up_move / avg_down_move), 2)\n",
    "\n",
    "    #sharpe ratio\n",
    "    ret = data[f\"{system}_Bal\"].pct_change().dropna()\n",
    "    excess_ret = ret - rfr/N\n",
    "    sharpe = np.sqrt(N) * excess_ret.mean() / excess_ret.std()\n",
    "\n",
    "    #sortino ratio\n",
    "    downside_std = excess_ret[excess_ret < 0].std()\n",
    "    sortino = np.sqrt(N) * excess_ret.mean() / downside_std\n",
    "        \n",
    "    # Calculate longest trade and average trade duration\n",
    "    longest_trade_duration = data[\"Strat_Duration\"].max()\n",
    "    avg_trade_duration = data[\"Strat_Duration\"].mean()\n",
    "\n",
    "    #save data\n",
    "    metrics[\"Start_Balance\"] = round(data[f\"{system}_Bal\"].iat[0], 2)\n",
    "    metrics[\"Final_Balance\"] = round(data[f\"{system}_Bal\"].iat[-1], 2)\n",
    "    #metrics[\"Total_Return\"] = round(sys_return, 2)\n",
    "    metrics[\"Annual_Return\"] = round(sys_cagr, 2)\n",
    "    #metrics[\"Time_in_Market\"] = round(tim, 2)\n",
    "    #metrics[\"Return_By_Exposure\"] = rbe\n",
    "    metrics[\"Max_Drawdown\"] = round(sys_dd, 2)\n",
    "    #metrics[\"Return_Over_Drawdown\"] = round(rod, 2)\n",
    "    #metrics[\"RBE_Over_Drawdown\"] = round(rbeod, 2)\n",
    "    metrics[\"Sharpe\"] = round(sharpe, 2)\n",
    "    metrics[\"Sortino\"] = round(sortino, 2)\n",
    "    #metrics[\"Signals\"] = round(signals, 2)\n",
    "    metrics[\"Trades\"] = round(trades_triggered, 2)\n",
    "    \n",
    "    #metrics[\"Gap\"] = round(gaps)\n",
    "    #metrics[\"No_Gap\"] = round(non_gaps)\n",
    "    #metrics[\"Wins\"] = round(wins, 2)\n",
    "    #metrics[\"Losses\"] = round(losses, 2)\n",
    "    metrics[\"Winrate\"] = round(winrate, 2)\n",
    "    #metrics[\"Max_Trade_Return_pct\"] = round(max_up_move, 2)\n",
    "    #metrics[\"Max_Trade_Loss_pct\"] = round(max_down_move, 2)\n",
    "    #metrics[\"Avg_Trade_Return_pct\"] = round(avg_up_move, 2)\n",
    "    #metrics[\"Avg_Trade_Loss_pct\"] = round(avg_down_move, 2)\n",
    "    metrics[\"Avg_RR\"] = avg_rr\n",
    "\n",
    "    # Add Longest and Average Trade Duration\n",
    "    metrics[\"Longest_Trade_Duration\"] = longest_trade_duration\n",
    "    metrics[\"Avg_Trade_Duration\"] = round(avg_trade_duration, 2)\n",
    "\n",
    "    return metrics"
   ]
  },
  {
   "cell_type": "code",
   "execution_count": 10,
   "metadata": {},
   "outputs": [],
   "source": [
    "for count, res in enumerate(results):\n",
    "    sys_metrics = {}\n",
    "    for s in systems:\n",
    "        sys_metrics.update({s: get_metrics(s, res)})\n",
    "    sys_metrics_df = pd.DataFrame.from_dict(sys_metrics)"
   ]
  },
  {
   "cell_type": "code",
   "execution_count": 11,
   "metadata": {},
   "outputs": [],
   "source": [
    "def show_trades(df, trades, start_date=None, end_date=None, trade_number=None):\n",
    "\n",
    "    # Ensure datetime index with timezone awareness\n",
    "    df.index = pd.to_datetime(df.index).tz_convert('America/New_York')\n",
    "    trades['Entry_Date'] = pd.to_datetime(trades['Entry_Date']).dt.tz_convert('America/New_York')\n",
    "    trades['Exit_Date'] = pd.to_datetime(trades['Exit_Date']).dt.tz_convert('America/New_York')\n",
    "\n",
    "    # If start_date is provided, filter the trades dataframe to only include trades after the start_date\n",
    "    if start_date:\n",
    "        start_date = pd.Timestamp(start_date, tz='America/New_York')\n",
    "        trades = trades[trades['Entry_Date'] >= start_date]\n",
    "        trades = trades[trades['Exit_Date'] >= start_date]  # Ensure exit date is also after the start_date\n",
    "    \n",
    "    # If trade_number is specified, filter the data based on that trade's entry and exit dates\n",
    "    if trade_number is not None:\n",
    "        # Get the specific trade's entry and exit dates using iloc to avoid KeyError after filtering\n",
    "        trade_entry_date = trades.iloc[trade_number]['Entry_Date']\n",
    "        trade_exit_date = trades.iloc[trade_number]['Exit_Date']\n",
    "        \n",
    "        # Extend the date range by 1 day before entry and 1 day after exit\n",
    "        extended_start_date = trade_entry_date - pd.Timedelta(days=1)\n",
    "        extended_end_date = trade_exit_date + pd.Timedelta(days=1)\n",
    "\n",
    "        # Filter the price data (df) and trades data by the extended entry and exit dates\n",
    "        df = df[(df.index >= extended_start_date) & (df.index <= extended_end_date)]\n",
    "        trades = trades[(trades['Entry_Date'] >= extended_start_date) & (trades['Exit_Date'] <= extended_end_date)]\n",
    "    else:\n",
    "        # If no trade_number is passed, apply the global date range filters\n",
    "        if start_date:\n",
    "            df = df[df.index >= start_date]\n",
    "            trades = trades[trades['Entry_Date'] >= start_date]\n",
    "        if end_date:\n",
    "            end_date = pd.Timestamp(end_date, tz='America/New_York')\n",
    "            df = df[df.index <= end_date]\n",
    "            trades = trades[trades['Exit_Date'] <= end_date]\n",
    "\n",
    "    # Create buy and sell signals from trades dataframe\n",
    "    buy_signals = pd.DataFrame({\n",
    "        'date': trades['Entry_Date'],\n",
    "        'price': trades['Entry_Price']\n",
    "    }).set_index('date')\n",
    "\n",
    "    sell_signals = pd.DataFrame({\n",
    "        'date': trades['Exit_Date'],\n",
    "        'price': trades['Exit_Price']\n",
    "    }).set_index('date')\n",
    "    \n",
    "    # Create the figure\n",
    "    fig = go.Figure()\n",
    "\n",
    "    # Add candlestick chart\n",
    "    fig.add_trace(go.Candlestick(\n",
    "        x=df.index,\n",
    "        open=df['Open'],\n",
    "        high=df['High'],\n",
    "        low=df['Low'],\n",
    "        close=df['Close'],\n",
    "        name='Candlestick',\n",
    "        increasing_line_color='green',\n",
    "        decreasing_line_color='red'\n",
    "    ))\n",
    "\n",
    "    # Plot buy and sell signals\n",
    "    fig.add_trace(go.Scatter(x=buy_signals.index, y=buy_signals['price'], \n",
    "                             mode='markers+text', marker=dict(symbol='diamond', color='green', size=12, line=dict(color='black', width=2)), \n",
    "                             name='Buy Signal', text='BUY', textposition='bottom center', \n",
    "                             textfont=dict(size=14, color='black', family='Arial', weight='bold')))\n",
    "    fig.add_trace(go.Scatter(x=sell_signals.index, y=sell_signals['price'], \n",
    "                             mode='markers+text', marker=dict(symbol='diamond', color='red', size=12, line=dict(color='black', width=2)),\n",
    "                             name='Sell Signal', text='SELL', textposition='top center', \n",
    "                             textfont=dict(size=14, color='black', family='Arial', weight='bold')))\n",
    "\n",
    "    # Customize layout for panning and zooming\n",
    "    fig.update_layout(\n",
    "        title='Candlestick Chart with Indicators and Trade Signals',\n",
    "        xaxis_title='Datetime',\n",
    "        yaxis_title='Price',\n",
    "        xaxis_rangeslider_visible=True,  # Enable range slider\n",
    "        height=900,\n",
    "        autosize=True,  # Enable auto resize for the chart\n",
    "        margin={'l': 50, 'r': 50, 't': 60, 'b': 60},  # Add margins around the chart\n",
    "        showlegend=True,\n",
    "        xaxis=dict(\n",
    "            type='category',  # Treat the x-axis as categorical to remove gaps\n",
    "            rangeslider=dict(visible=True),  # Rangeslider visible for easier panning\n",
    "            fixedrange=False,  # Disable zooming with the mouse wheel, only panning allowed\n",
    "        ),\n",
    "        yaxis=dict(\n",
    "            fixedrange=False,  # Allow zooming on y-axis too\n",
    "        ),\n",
    "    )\n",
    "\n",
    "    fig.show()"
   ]
  },
  {
   "cell_type": "code",
   "execution_count": 12,
   "metadata": {},
   "outputs": [
    {
     "data": {
      "application/vnd.plotly.v1+json": {
       "config": {
        "plotlyServerURL": "https://plot.ly"
       },
       "data": [
        {
         "close": {
          "bdata": "mpmZmZnAtkAzMzMzM8W2QDMzMzMzybZAmpmZmZnCtkAAAAAAAMm2QGZmZmZmxbZAZmZmZmbEtkAzMzMzM8G2QAAAAAAAu7ZAmpmZmZm6tkAAAAAAALK2QJqZmZmZs7ZAMzMzMzOztkAzMzMzM7e2QJqZmZmZsrZAMzMzMzOytkAzMzMzM662QAAAAAAAq7ZAAAAAAACstkAzMzMzM6y2QAAAAAAAr7ZAmpmZmZmvtkCamZmZma62QDMzMzMzsLZAmpmZmZmvtkAzMzMzM622QJqZmZmZrLZAAAAAAACutkAzMzMzM7S2QAAAAAAAtLZAAAAAAACztkBmZmZmZrK2QJqZmZmZsLZAZmZmZmavtkCamZmZma+2QAAAAAAAr7ZAAAAAAACxtkBmZmZmZqO2QAAAAAAApLZAzczMzMyftkCamZmZmZK2QDMzMzMzkrZAmpmZmZmRtkCamZmZmZO2QAAAAAAAlrZAAAAAAACWtkAAAAAAAJu2QDMzMzMzmLZAAAAAAACYtkCamZmZmZm2QGZmZmZmmbZAAAAAAACatkCamZmZmZS2QGZmZmZmnbZAMzMzMzOmtkAzMzMzM6O2QAAAAAAAo7ZAAAAAAACitkCamZmZmaW2QGZmZmZmorZAAAAAAACctkBmZmZmZpi2QDMzMzOzo7ZAMzMzMzOttkAzMzMzM6O2QGZmZmZmmrZAZmZmZma1tkAzMzMzs622QAAAAAAAqLZAzczMzEymtkDNzMzMzLC2QM3MzMzMnLZAAAAAAACttkAAAAAAgLO2QM3MzMzMr7ZAzczMzEzAtkDNzMzMzMC2QM3MzMzMwrZAAAAAAADAtkAAAAAAAMa2QM3MzMxMv7ZAzczMzMzItkAAAAAAAM22QAAAAACAyrZAAAAAAADJtkAAAAAAgMa2QM3MzMzMxrZAzczMzEzUtkAAAAAAANe2QAAAAAAA27ZAAAAAAADatkAAAAAAANu2QDMzMzMz5LZAAAAAAADktkDNzMzMzOq2QDMzMzMz5bZAmpmZmZnitkAzMzMzM+O2QJqZmZmZ4bZAmpmZmZnltkDNzMzMzOO2QAAAAAAA4rZAMzMzMzPitkDNzMzMzOG2QJqZmZmZ3LZAZmZmZmbftkDNzMzMzN62QAAAAAAA47ZAzczMzMzjtkDNzMzMzOG2QAAAAAAA4rZAMzMzMzPgtkCamZmZmeC2QDMzMzMz4rZAzczMzMzktkAzMzMzM+W2QDMzMzMz5bZAmpmZmZnjtkCamZmZmea2QJqZmZmZ6LZAmpmZmZnptkDNzMzMzOm2QAAAAAAA5rZAzczMzMzltkCamZmZmeO2QDMzMzMz5rZAmpmZmZnqtkCamZmZmei2QAAAAAAA7LZAmpmZmZnwtkDNzMzMzPS2QJqZmZmZ9bZAAAAAAAD1tkDNzMzMzPG2QAAAAAAA9LZAAAAAAADytkCamZmZmfC2QM3MzMzM7rZAAAAAAADxtkCamZmZmfK2QDMzMzMz8bZAzczMzMzrtkAzMzMzM+u2QM3MzMzM6LZAAAAAAADitkDNzMzMzOG2QM3MzMzM5LZAMzMzMzPitkDNzMzMzNy2QAAAAACA17ZAmpmZmZnstkAAAAAAAOq2QAAAAAAA6rZAzczMzMzvtkAAAAAAgPS2QM3MzMzM2rZAzczMzMzstkDNzMzMzOO2QGZmZmbm57ZAAAAAAIDWtkAAAAAAAM22QM3MzMzMzLZAzczMzMy/tkDNzMzMTLi2QAAAAAAAwLZAAAAAAIDBtkDNzMzMzMW2QM3MzMzMxrZAzczMzMzMtkAAAAAAANm2QAAAAACA47ZAAAAAAIDotkAAAAAAgOa2QM3MzMxM5LZAAAAAAADltkAAAAAAAMu2QAAAAACAwLZAAAAAAADKtkDNzMzMzMe2QAAAAACA27ZA",
          "dtype": "f8"
         },
         "decreasing": {
          "line": {
           "color": "red"
          }
         },
         "high": {
          "bdata": "ZmZmZmbGtkAzMzMzM8W2QAAAAAAAyrZAZmZmZmbJtkAAAAAAAMq2QDMzMzMzyrZAMzMzMzPHtkAAAAAAAMW2QJqZmZmZwbZAAAAAAAC/tkAAAAAAALu2QAAAAAAAtbZAmpmZmZm1tkAzMzMzM7i2QDMzMzMzt7ZAAAAAAACztkBmZmZmZrS2QGZmZmZmsLZAAAAAAACstkAzMzMzM622QJqZmZmZsLZAAAAAAACwtkAAAAAAALC2QJqZmZmZsLZAZmZmZmawtkAAAAAAALC2QJqZmZmZrbZAAAAAAACwtkBmZmZmZrS2QGZmZmZmt7ZAAAAAAAC2tkCamZmZmbS2QJqZmZmZtLZAmpmZmZmxtkAAAAAAALG2QGZmZmZmsrZAMzMzMzO1tkBmZmZmZrK2QM3MzMzMp7ZAMzMzMzOntkAzMzMzM6G2QGZmZmZmmLZAZmZmZmaYtkDNzMzMzJW2QGZmZmZmlrZAAAAAAACXtkAAAAAAAJy2QGZmZmZmnbZAMzMzMzOdtkBmZmZmZpq2QJqZmZmZnLZAmpmZmZmctkBmZmZmZp62QJqZmZmZobZAZmZmZmamtkBmZmZmZqm2QGZmZmZmpLZAzczMzMymtkAAAAAAAKq2QDMzMzMzqLZAAAAAAACktkCamZmZmaC2QDMzMzOzo7ZAMzMzM7OxtkAzMzMzs7S2QDMzMzOzrbZAZmZmZma3tkAzMzMzM7q2QDMzMzMzsLZAzczMzEyttkDNzMzMTLO2QGZmZmZmsbZAzczMzMyttkDNzMzMTLa2QM3MzMxMtrZAAAAAAADBtkDNzMzMzMK2QM3MzMzMwrZAzczMzMzGtkAAAAAAgMi2QM3MzMzMx7ZAzczMzEzJtkDNzMzMzM+2QM3MzMxMzbZAAAAAAIDMtkDNzMzMTM+2QM3MzMzMyrZAzczMzMzWtkAAAAAAANi2QJqZmZmZ27ZAAAAAAADctkCamZmZmdu2QJqZmZmZ5bZAMzMzMzPltkAAAAAAAO62QM3MzMzM67ZAmpmZmZnmtkAzMzMzM+W2QJqZmZmZ47ZAmpmZmZnltkAzMzMzM+W2QAAAAAAA5LZAmpmZmZnjtkCamZmZmeK2QM3MzMzM4rZAmpmZmZngtkAAAAAAAOC2QDMzMzMz47ZAzczMzMzjtkAzMzMzM+O2QAAAAAAA47ZAmpmZmZnitkAAAAAAAOG2QJqZmZmZ4rZAmpmZmZnltkCamZmZmeW2QJqZmZmZ5bZAZmZmZmbltkAAAAAAAOi2QM3MzMzM6LZAzczMzMzptkAzMzMzM+q2QJqZmZmZ6bZAAAAAAADntkDNzMzMzOa2QAAAAAAA6bZAmpmZmZnqtkCamZmZmeq2QGZmZmZm7LZAMzMzMzPztkDNzMzMzPa2QDMzMzMz+rZAAAAAAAD4tkAAAAAAAPW2QJqZmZmZ9bZAzczMzMzztkAAAAAAAPS2QJqZmZmZ8rZAMzMzMzPztkAAAAAAAPS2QGZmZmZm8rZAmpmZmZnxtkAzMzMzM+y2QDMzMzMz67ZAmpmZmZnrtkAzMzMzM+S2QAAAAAAA5rZAmpmZmZnltkCamZmZmeK2QAAAAAAA3bZAMzMzMzP/tkAzMzMzM/e2QJqZmZmZ67ZAAAAAAADytkBmZmZmZva2QM3MzMzM9bZAAAAAAADytkDNzMzMzPK2QM3MzMzM6LZAZmZmZubntkDNzMzMzNe2QAAAAAAA2LZAZmZmZmbStkDNzMzMTMK2QM3MzMzMw7ZAzczMzEzFtkDNzMzMzMe2QAAAAAAAyrZAzczMzMzOtkDNzMzMTNu2QAAAAAAA5bZAzczMzEzrtkBmZmZm5um2QM3MzMzM67ZAzczMzEzrtkDNzMzMTOW2QM3MzMxMzrZAzczMzEzLtkAAAAAAgM22QM3MzMzM3LZA",
          "dtype": "f8"
         },
         "increasing": {
          "line": {
           "color": "green"
          }
         },
         "low": {
          "bdata": "AAAAAAC3tkAAAAAAAMG2QGZmZmZmxbZAZmZmZma/tkBmZmZmZsK2QDMzMzMzxbZAAAAAAADBtkAzMzMzM762QGZmZmZmurZAmpmZmZm6tkAzMzMzM7G2QJqZmZmZrbZAmpmZmZmwtkAAAAAAALK2QAAAAAAAsrZAMzMzMzOwtkAAAAAAAK62QAAAAAAAprZAAAAAAACotkBmZmZmZqm2QGZmZmZmrLZAMzMzMzOttkCamZmZmay2QAAAAAAArrZAAAAAAACvtkCamZmZmay2QAAAAAAAqrZAAAAAAACstkAAAAAAAK62QJqZmZmZs7ZAMzMzMzOxtkCamZmZmbG2QJqZmZmZr7ZAAAAAAACstkAAAAAAAK22QDMzMzMzq7ZAMzMzMzOstkCamZmZmaG2QDMzMzMzoLZAZmZmZmaetkDNzMzMzJC2QGZmZmZmkLZAAAAAAACRtkBmZmZmZpC2QAAAAAAAkbZAmpmZmZmStkDNzMzMzJW2QDMzMzMzlbZAmpmZmZmUtkCamZmZmZe2QAAAAAAAl7ZAmpmZmZmYtkCamZmZmZK2QDMzMzMzk7ZAZmZmZmabtkAAAAAAAKO2QDMzMzMznLZAZmZmZmahtkBmZmZmZqC2QJqZmZmZobZAmpmZmZmYtkAAAAAAAJe2QGZmZmbmk7ZAZmZmZmabtkBmZmZm5qK2QGZmZmZmmbZAzczMzEyatkBmZmZm5qu2QGZmZmbmo7ZAAAAAAICktkAAAAAAgKO2QAAAAACAm7ZAAAAAAICZtkAAAAAAgKu2QAAAAACArbZAAAAAAICutkAAAAAAALu2QM3MzMxMurZAAAAAAIC/tkBmZmZmZr+2QAAAAAAAvrZAZmZmZma7tkAAAAAAAMO2QAAAAACAwbZAAAAAAADFtkAAAAAAgMS2QAAAAACAxLZAAAAAAADFtkAAAAAAANG2QM3MzMzM1rZAzczMzMzYtkDNzMzMzNe2QM3MzMzM37ZAAAAAAADjtkAzMzMzM+S2QAAAAAAA5bZAzczMzMzgtkDNzMzMzOG2QJqZmZmZ4bZAmpmZmZnhtkAzMzMzM+G2QAAAAAAA4rZAAAAAAADhtkDNzMzMzOC2QAAAAAAA3LZAAAAAAADctkAzMzMzM962QJqZmZmZ3rZAMzMzMzPhtkAzMzMzM+C2QAAAAAAA4bZAMzMzMzPgtkAzMzMzM9+2QJqZmZmZ37ZAMzMzMzPitkCamZmZmeS2QJqZmZmZ5LZAAAAAAADjtkAzMzMzM+O2QDMzMzMz5rZAMzMzMzPotkCamZmZmei2QJqZmZmZ5bZAMzMzMzPktkAAAAAAAOG2QAAAAAAA5LZAzczMzMzltkAzMzMzM+e2QDMzMzMz57ZAzczMzMzrtkCamZmZmey2QJqZmZmZ9LZAAAAAAADytkAAAAAAAO+2QDMzMzMz8LZAmpmZmZnwtkCamZmZme+2QM3MzMzM7bZAmpmZmZnutkAzMzMzM/G2QDMzMzMz7rZAmpmZmZnqtkAzMzMzM+m2QDMzMzMz57ZAAAAAAADgtkCamZmZmdq2QAAAAAAA4bZAmpmZmZngtkCamZmZmdy2QJqZmZmZ07ZAmpmZmZnXtkCamZmZmei2QM3MzMzM47ZAZmZmZmbptkDNzMzMTOW2QGZmZmbm17ZAzczMzMzZtkAAAAAAAOG2QAAAAAAA2rZAzczMzEzWtkAAAAAAAMa2QAAAAAAAybZAZmZmZma+tkDNzMzMTLi2QM3MzMxMtrZAAAAAAAC7tkAAAAAAALS2QAAAAACAwbZAAAAAAIDFtkBmZmZm5sq2QAAAAAAA17ZAAAAAAIDitkBmZmZmZuK2QAAAAAAA5LZAAAAAAADjtkAAAAAAgMm2QAAAAAAAurZAAAAAAIDAtkAAAAAAAMG2QAAAAACAx7ZA",
          "dtype": "f8"
         },
         "name": "Candlestick",
         "open": {
          "bdata": "AAAAAADEtkAAAAAAAMG2QGZmZmZmxbZAZmZmZmbJtkBmZmZmZsK2QAAAAAAAybZAZmZmZmbFtkAzMzMzM8S2QGZmZmZmwbZAMzMzMzO7tkAAAAAAALu2QGZmZmZmsrZAmpmZmZmztkBmZmZmZrO2QJqZmZmZtrZAAAAAAACztkDNzMzMzLG2QGZmZmZmrrZAMzMzMzOrtkBmZmZmZqy2QGZmZmZmrLZAmpmZmZmutkDNzMzMzK+2QGZmZmZmrrZAAAAAAACwtkBmZmZmZq+2QJqZmZmZrLZAmpmZmZmstkAAAAAAAK62QGZmZmZmtLZAZmZmZma0tkAAAAAAALO2QDMzMzMzsrZAMzMzMzOwtkAzMzMzM6+2QJqZmZmZr7ZAmpmZmZmutkCamZmZmbC2QDMzMzMzo7ZAAAAAAACktkAAAAAAAKC2QJqZmZmZkrZAZmZmZmaStkAAAAAAAJK2QDMzMzMzk7ZAMzMzMzOWtkAAAAAAAJa2QAAAAAAAm7ZAmpmZmZmYtkBmZmZmZpi2QM3MzMzMmbZAmpmZmZmZtkBmZmZmZpq2QJqZmZmZlLZAMzMzMzOdtkBmZmZmZqa2QGZmZmZmo7ZAAAAAAACjtkAAAAAAAKK2QDMzMzMzpbZAMzMzMzOitkBmZmZmZpy2QDMzMzMzmLZAZmZmZmajtkBmZmZm5qy2QDMzMzOzo7ZAMzMzM7OatkAzMzMzs7W2QGZmZmZmrrZAAAAAAICntkAAAAAAAKa2QM3MzMxMsbZAZmZmZuactkDNzMzMTK22QAAAAAAAs7ZAAAAAAICvtkAAAAAAAMC2QM3MzMxMwbZAAAAAAIDCtkDNzMzMTMC2QGZmZmbmxbZAzczMzMy/tkAAAAAAgMi2QAAAAACAzLZAAAAAAADKtkAAAAAAgMi2QM3MzMzMxrZAAAAAAIDGtkCamZmZGdS2QJqZmZmZ17ZAZmZmZmbbtkDNzMzMzNm2QM3MzMzM4rZAmpmZmZnktkAzMzMzM+S2QAAAAAAA67ZAZmZmZmbltkBmZmZmZuK2QDMzMzMz47ZAzczMzMzhtkAzMzMzM+W2QJqZmZmZ47ZAzczMzMzhtkAzMzMzM+K2QAAAAAAA4rZAmpmZmZnctkCamZmZmd+2QM3MzMzM3rZAzczMzMzitkAzMzMzM+O2QM3MzMzM4bZAzczMzMzhtkCamZmZmeC2QJqZmZmZ4LZAZmZmZmbitkCamZmZmeS2QDMzMzMz5bZAZmZmZmbltkCamZmZmeO2QJqZmZmZ5rZAzczMzMzotkBmZmZmZum2QDMzMzMz6bZAzczMzMzltkAzMzMzM+a2QAAAAAAA5LZAMzMzMzPmtkAzMzMzM+q2QJqZmZmZ6LZAMzMzMzPstkCamZmZmfC2QM3MzMzM9LZAZmZmZmb1tkDNzMzMzPS2QM3MzMzM8bZAzczMzMzztkBmZmZmZvK2QM3MzMzM8LZAAAAAAADvtkBmZmZmZvG2QGZmZmZm8rZAMzMzMzPxtkAAAAAAAOy2QAAAAAAA67ZAmpmZmZnotkBmZmZmZuK2QJqZmZmZ4bZAAAAAAADltkBmZmZmZuK2QJqZmZmZ3LZAmpmZmZnXtkAAAAAAAO22QGZmZmZm6rZAzczMzMzptkAzMzMzM++2QGZmZmZm9LZAAAAAAIDbtkDNzMzMTO22QM3MzMxM5LZAzczMzMzntkDNzMzMzNa2QAAAAACAzLZAzczMzEzMtkDNzMzMTMC2QM3MzMzMt7ZAzczMzEzAtkAAAAAAAMG2QAAAAACAxbZAAAAAAIDGtkAAAAAAgMy2QM3MzMxM2bZAzczMzMzjtkDNzMzMzOi2QAAAAAAA5rZAzczMzMzktkDNzMzMTOW2QM3MzMxMy7ZAAAAAAADBtkDNzMzMTMq2QM3MzMxMyLZA",
          "dtype": "f8"
         },
         "type": "candlestick",
         "x": [
          "2025-01-12T18:00:00-05:00",
          "2025-01-12T18:15:00-05:00",
          "2025-01-12T18:30:00-05:00",
          "2025-01-12T18:45:00-05:00",
          "2025-01-12T19:00:00-05:00",
          "2025-01-12T19:15:00-05:00",
          "2025-01-12T19:30:00-05:00",
          "2025-01-12T19:45:00-05:00",
          "2025-01-12T20:00:00-05:00",
          "2025-01-12T20:15:00-05:00",
          "2025-01-12T20:30:00-05:00",
          "2025-01-12T20:45:00-05:00",
          "2025-01-12T21:00:00-05:00",
          "2025-01-12T21:15:00-05:00",
          "2025-01-12T21:30:00-05:00",
          "2025-01-12T21:45:00-05:00",
          "2025-01-12T22:00:00-05:00",
          "2025-01-12T22:15:00-05:00",
          "2025-01-12T22:30:00-05:00",
          "2025-01-12T22:45:00-05:00",
          "2025-01-12T23:00:00-05:00",
          "2025-01-12T23:15:00-05:00",
          "2025-01-12T23:30:00-05:00",
          "2025-01-12T23:45:00-05:00",
          "2025-01-13T00:00:00-05:00",
          "2025-01-13T00:15:00-05:00",
          "2025-01-13T00:30:00-05:00",
          "2025-01-13T00:45:00-05:00",
          "2025-01-13T01:00:00-05:00",
          "2025-01-13T01:15:00-05:00",
          "2025-01-13T01:30:00-05:00",
          "2025-01-13T01:45:00-05:00",
          "2025-01-13T02:00:00-05:00",
          "2025-01-13T02:15:00-05:00",
          "2025-01-13T02:30:00-05:00",
          "2025-01-13T02:45:00-05:00",
          "2025-01-13T03:00:00-05:00",
          "2025-01-13T03:15:00-05:00",
          "2025-01-13T03:30:00-05:00",
          "2025-01-13T03:45:00-05:00",
          "2025-01-13T04:00:00-05:00",
          "2025-01-13T04:15:00-05:00",
          "2025-01-13T04:30:00-05:00",
          "2025-01-13T04:45:00-05:00",
          "2025-01-13T05:00:00-05:00",
          "2025-01-13T05:15:00-05:00",
          "2025-01-13T05:30:00-05:00",
          "2025-01-13T05:45:00-05:00",
          "2025-01-13T06:00:00-05:00",
          "2025-01-13T06:15:00-05:00",
          "2025-01-13T06:30:00-05:00",
          "2025-01-13T06:45:00-05:00",
          "2025-01-13T07:00:00-05:00",
          "2025-01-13T07:15:00-05:00",
          "2025-01-13T07:30:00-05:00",
          "2025-01-13T07:45:00-05:00",
          "2025-01-13T08:00:00-05:00",
          "2025-01-13T08:15:00-05:00",
          "2025-01-13T08:30:00-05:00",
          "2025-01-13T08:45:00-05:00",
          "2025-01-13T09:00:00-05:00",
          "2025-01-13T09:15:00-05:00",
          "2025-01-13T09:30:00-05:00",
          "2025-01-13T09:45:00-05:00",
          "2025-01-13T10:00:00-05:00",
          "2025-01-13T10:15:00-05:00",
          "2025-01-13T10:30:00-05:00",
          "2025-01-13T10:45:00-05:00",
          "2025-01-13T11:00:00-05:00",
          "2025-01-13T11:15:00-05:00",
          "2025-01-13T11:30:00-05:00",
          "2025-01-13T11:45:00-05:00",
          "2025-01-13T12:00:00-05:00",
          "2025-01-13T12:15:00-05:00",
          "2025-01-13T12:30:00-05:00",
          "2025-01-13T12:45:00-05:00",
          "2025-01-13T13:00:00-05:00",
          "2025-01-13T13:15:00-05:00",
          "2025-01-13T13:30:00-05:00",
          "2025-01-13T13:45:00-05:00",
          "2025-01-13T14:00:00-05:00",
          "2025-01-13T14:15:00-05:00",
          "2025-01-13T14:30:00-05:00",
          "2025-01-13T14:45:00-05:00",
          "2025-01-13T15:00:00-05:00",
          "2025-01-13T15:15:00-05:00",
          "2025-01-13T15:30:00-05:00",
          "2025-01-13T15:45:00-05:00",
          "2025-01-13T16:00:00-05:00",
          "2025-01-13T16:15:00-05:00",
          "2025-01-13T16:30:00-05:00",
          "2025-01-13T16:45:00-05:00",
          "2025-01-13T18:00:00-05:00",
          "2025-01-13T18:15:00-05:00",
          "2025-01-13T18:30:00-05:00",
          "2025-01-13T18:45:00-05:00",
          "2025-01-13T19:00:00-05:00",
          "2025-01-13T19:15:00-05:00",
          "2025-01-13T19:30:00-05:00",
          "2025-01-13T19:45:00-05:00",
          "2025-01-13T20:00:00-05:00",
          "2025-01-13T20:15:00-05:00",
          "2025-01-13T20:30:00-05:00",
          "2025-01-13T20:45:00-05:00",
          "2025-01-13T21:00:00-05:00",
          "2025-01-13T21:15:00-05:00",
          "2025-01-13T21:30:00-05:00",
          "2025-01-13T21:45:00-05:00",
          "2025-01-13T22:00:00-05:00",
          "2025-01-13T22:15:00-05:00",
          "2025-01-13T22:30:00-05:00",
          "2025-01-13T22:45:00-05:00",
          "2025-01-13T23:00:00-05:00",
          "2025-01-13T23:15:00-05:00",
          "2025-01-13T23:30:00-05:00",
          "2025-01-13T23:45:00-05:00",
          "2025-01-14T00:00:00-05:00",
          "2025-01-14T00:15:00-05:00",
          "2025-01-14T00:30:00-05:00",
          "2025-01-14T00:45:00-05:00",
          "2025-01-14T01:00:00-05:00",
          "2025-01-14T01:15:00-05:00",
          "2025-01-14T01:30:00-05:00",
          "2025-01-14T01:45:00-05:00",
          "2025-01-14T02:00:00-05:00",
          "2025-01-14T02:15:00-05:00",
          "2025-01-14T02:30:00-05:00",
          "2025-01-14T02:45:00-05:00",
          "2025-01-14T03:00:00-05:00",
          "2025-01-14T03:15:00-05:00",
          "2025-01-14T03:30:00-05:00",
          "2025-01-14T03:45:00-05:00",
          "2025-01-14T04:00:00-05:00",
          "2025-01-14T04:15:00-05:00",
          "2025-01-14T04:30:00-05:00",
          "2025-01-14T04:45:00-05:00",
          "2025-01-14T05:00:00-05:00",
          "2025-01-14T05:15:00-05:00",
          "2025-01-14T05:30:00-05:00",
          "2025-01-14T05:45:00-05:00",
          "2025-01-14T06:00:00-05:00",
          "2025-01-14T06:15:00-05:00",
          "2025-01-14T06:30:00-05:00",
          "2025-01-14T06:45:00-05:00",
          "2025-01-14T07:00:00-05:00",
          "2025-01-14T07:15:00-05:00",
          "2025-01-14T07:30:00-05:00",
          "2025-01-14T07:45:00-05:00",
          "2025-01-14T08:00:00-05:00",
          "2025-01-14T08:15:00-05:00",
          "2025-01-14T08:30:00-05:00",
          "2025-01-14T08:45:00-05:00",
          "2025-01-14T09:00:00-05:00",
          "2025-01-14T09:15:00-05:00",
          "2025-01-14T09:30:00-05:00",
          "2025-01-14T09:45:00-05:00",
          "2025-01-14T10:00:00-05:00",
          "2025-01-14T10:15:00-05:00",
          "2025-01-14T10:30:00-05:00",
          "2025-01-14T10:45:00-05:00",
          "2025-01-14T11:00:00-05:00",
          "2025-01-14T11:15:00-05:00",
          "2025-01-14T11:30:00-05:00",
          "2025-01-14T11:45:00-05:00",
          "2025-01-14T12:00:00-05:00",
          "2025-01-14T12:15:00-05:00",
          "2025-01-14T12:30:00-05:00",
          "2025-01-14T12:45:00-05:00",
          "2025-01-14T13:00:00-05:00",
          "2025-01-14T13:15:00-05:00",
          "2025-01-14T13:30:00-05:00",
          "2025-01-14T13:45:00-05:00",
          "2025-01-14T14:00:00-05:00",
          "2025-01-14T14:15:00-05:00",
          "2025-01-14T14:30:00-05:00",
          "2025-01-14T14:45:00-05:00",
          "2025-01-14T15:00:00-05:00",
          "2025-01-14T15:15:00-05:00",
          "2025-01-14T15:30:00-05:00",
          "2025-01-14T15:45:00-05:00"
         ]
        },
        {
         "marker": {
          "color": "green",
          "line": {
           "color": "black",
           "width": 2
          },
          "size": 12,
          "symbol": "diamond"
         },
         "mode": "markers+text",
         "name": "Buy Signal",
         "text": "BUY",
         "textfont": {
          "color": "black",
          "family": "Arial",
          "size": 14,
          "weight": "bold"
         },
         "textposition": "bottom center",
         "type": "scatter",
         "x": [
          "2025-01-13T10:00:00-05:00"
         ],
         "y": {
          "bdata": "ZmZmZuastkA=",
          "dtype": "f8"
         }
        },
        {
         "marker": {
          "color": "red",
          "line": {
           "color": "black",
           "width": 2
          },
          "size": 12,
          "symbol": "diamond"
         },
         "mode": "markers+text",
         "name": "Sell Signal",
         "text": "SELL",
         "textfont": {
          "color": "black",
          "family": "Arial",
          "size": 14,
          "weight": "bold"
         },
         "textposition": "top center",
         "type": "scatter",
         "x": [
          "2025-01-13T15:45:00-05:00"
         ],
         "y": {
          "bdata": "ZmZmZmbStkA=",
          "dtype": "f8"
         }
        }
       ],
       "layout": {
        "autosize": true,
        "height": 900,
        "margin": {
         "b": 60,
         "l": 50,
         "r": 50,
         "t": 60
        },
        "showlegend": true,
        "template": {
         "data": {
          "bar": [
           {
            "error_x": {
             "color": "#2a3f5f"
            },
            "error_y": {
             "color": "#2a3f5f"
            },
            "marker": {
             "line": {
              "color": "#E5ECF6",
              "width": 0.5
             },
             "pattern": {
              "fillmode": "overlay",
              "size": 10,
              "solidity": 0.2
             }
            },
            "type": "bar"
           }
          ],
          "barpolar": [
           {
            "marker": {
             "line": {
              "color": "#E5ECF6",
              "width": 0.5
             },
             "pattern": {
              "fillmode": "overlay",
              "size": 10,
              "solidity": 0.2
             }
            },
            "type": "barpolar"
           }
          ],
          "carpet": [
           {
            "aaxis": {
             "endlinecolor": "#2a3f5f",
             "gridcolor": "white",
             "linecolor": "white",
             "minorgridcolor": "white",
             "startlinecolor": "#2a3f5f"
            },
            "baxis": {
             "endlinecolor": "#2a3f5f",
             "gridcolor": "white",
             "linecolor": "white",
             "minorgridcolor": "white",
             "startlinecolor": "#2a3f5f"
            },
            "type": "carpet"
           }
          ],
          "choropleth": [
           {
            "colorbar": {
             "outlinewidth": 0,
             "ticks": ""
            },
            "type": "choropleth"
           }
          ],
          "contour": [
           {
            "colorbar": {
             "outlinewidth": 0,
             "ticks": ""
            },
            "colorscale": [
             [
              0,
              "#0d0887"
             ],
             [
              0.1111111111111111,
              "#46039f"
             ],
             [
              0.2222222222222222,
              "#7201a8"
             ],
             [
              0.3333333333333333,
              "#9c179e"
             ],
             [
              0.4444444444444444,
              "#bd3786"
             ],
             [
              0.5555555555555556,
              "#d8576b"
             ],
             [
              0.6666666666666666,
              "#ed7953"
             ],
             [
              0.7777777777777778,
              "#fb9f3a"
             ],
             [
              0.8888888888888888,
              "#fdca26"
             ],
             [
              1,
              "#f0f921"
             ]
            ],
            "type": "contour"
           }
          ],
          "contourcarpet": [
           {
            "colorbar": {
             "outlinewidth": 0,
             "ticks": ""
            },
            "type": "contourcarpet"
           }
          ],
          "heatmap": [
           {
            "colorbar": {
             "outlinewidth": 0,
             "ticks": ""
            },
            "colorscale": [
             [
              0,
              "#0d0887"
             ],
             [
              0.1111111111111111,
              "#46039f"
             ],
             [
              0.2222222222222222,
              "#7201a8"
             ],
             [
              0.3333333333333333,
              "#9c179e"
             ],
             [
              0.4444444444444444,
              "#bd3786"
             ],
             [
              0.5555555555555556,
              "#d8576b"
             ],
             [
              0.6666666666666666,
              "#ed7953"
             ],
             [
              0.7777777777777778,
              "#fb9f3a"
             ],
             [
              0.8888888888888888,
              "#fdca26"
             ],
             [
              1,
              "#f0f921"
             ]
            ],
            "type": "heatmap"
           }
          ],
          "histogram": [
           {
            "marker": {
             "pattern": {
              "fillmode": "overlay",
              "size": 10,
              "solidity": 0.2
             }
            },
            "type": "histogram"
           }
          ],
          "histogram2d": [
           {
            "colorbar": {
             "outlinewidth": 0,
             "ticks": ""
            },
            "colorscale": [
             [
              0,
              "#0d0887"
             ],
             [
              0.1111111111111111,
              "#46039f"
             ],
             [
              0.2222222222222222,
              "#7201a8"
             ],
             [
              0.3333333333333333,
              "#9c179e"
             ],
             [
              0.4444444444444444,
              "#bd3786"
             ],
             [
              0.5555555555555556,
              "#d8576b"
             ],
             [
              0.6666666666666666,
              "#ed7953"
             ],
             [
              0.7777777777777778,
              "#fb9f3a"
             ],
             [
              0.8888888888888888,
              "#fdca26"
             ],
             [
              1,
              "#f0f921"
             ]
            ],
            "type": "histogram2d"
           }
          ],
          "histogram2dcontour": [
           {
            "colorbar": {
             "outlinewidth": 0,
             "ticks": ""
            },
            "colorscale": [
             [
              0,
              "#0d0887"
             ],
             [
              0.1111111111111111,
              "#46039f"
             ],
             [
              0.2222222222222222,
              "#7201a8"
             ],
             [
              0.3333333333333333,
              "#9c179e"
             ],
             [
              0.4444444444444444,
              "#bd3786"
             ],
             [
              0.5555555555555556,
              "#d8576b"
             ],
             [
              0.6666666666666666,
              "#ed7953"
             ],
             [
              0.7777777777777778,
              "#fb9f3a"
             ],
             [
              0.8888888888888888,
              "#fdca26"
             ],
             [
              1,
              "#f0f921"
             ]
            ],
            "type": "histogram2dcontour"
           }
          ],
          "mesh3d": [
           {
            "colorbar": {
             "outlinewidth": 0,
             "ticks": ""
            },
            "type": "mesh3d"
           }
          ],
          "parcoords": [
           {
            "line": {
             "colorbar": {
              "outlinewidth": 0,
              "ticks": ""
             }
            },
            "type": "parcoords"
           }
          ],
          "pie": [
           {
            "automargin": true,
            "type": "pie"
           }
          ],
          "scatter": [
           {
            "fillpattern": {
             "fillmode": "overlay",
             "size": 10,
             "solidity": 0.2
            },
            "type": "scatter"
           }
          ],
          "scatter3d": [
           {
            "line": {
             "colorbar": {
              "outlinewidth": 0,
              "ticks": ""
             }
            },
            "marker": {
             "colorbar": {
              "outlinewidth": 0,
              "ticks": ""
             }
            },
            "type": "scatter3d"
           }
          ],
          "scattercarpet": [
           {
            "marker": {
             "colorbar": {
              "outlinewidth": 0,
              "ticks": ""
             }
            },
            "type": "scattercarpet"
           }
          ],
          "scattergeo": [
           {
            "marker": {
             "colorbar": {
              "outlinewidth": 0,
              "ticks": ""
             }
            },
            "type": "scattergeo"
           }
          ],
          "scattergl": [
           {
            "marker": {
             "colorbar": {
              "outlinewidth": 0,
              "ticks": ""
             }
            },
            "type": "scattergl"
           }
          ],
          "scattermap": [
           {
            "marker": {
             "colorbar": {
              "outlinewidth": 0,
              "ticks": ""
             }
            },
            "type": "scattermap"
           }
          ],
          "scattermapbox": [
           {
            "marker": {
             "colorbar": {
              "outlinewidth": 0,
              "ticks": ""
             }
            },
            "type": "scattermapbox"
           }
          ],
          "scatterpolar": [
           {
            "marker": {
             "colorbar": {
              "outlinewidth": 0,
              "ticks": ""
             }
            },
            "type": "scatterpolar"
           }
          ],
          "scatterpolargl": [
           {
            "marker": {
             "colorbar": {
              "outlinewidth": 0,
              "ticks": ""
             }
            },
            "type": "scatterpolargl"
           }
          ],
          "scatterternary": [
           {
            "marker": {
             "colorbar": {
              "outlinewidth": 0,
              "ticks": ""
             }
            },
            "type": "scatterternary"
           }
          ],
          "surface": [
           {
            "colorbar": {
             "outlinewidth": 0,
             "ticks": ""
            },
            "colorscale": [
             [
              0,
              "#0d0887"
             ],
             [
              0.1111111111111111,
              "#46039f"
             ],
             [
              0.2222222222222222,
              "#7201a8"
             ],
             [
              0.3333333333333333,
              "#9c179e"
             ],
             [
              0.4444444444444444,
              "#bd3786"
             ],
             [
              0.5555555555555556,
              "#d8576b"
             ],
             [
              0.6666666666666666,
              "#ed7953"
             ],
             [
              0.7777777777777778,
              "#fb9f3a"
             ],
             [
              0.8888888888888888,
              "#fdca26"
             ],
             [
              1,
              "#f0f921"
             ]
            ],
            "type": "surface"
           }
          ],
          "table": [
           {
            "cells": {
             "fill": {
              "color": "#EBF0F8"
             },
             "line": {
              "color": "white"
             }
            },
            "header": {
             "fill": {
              "color": "#C8D4E3"
             },
             "line": {
              "color": "white"
             }
            },
            "type": "table"
           }
          ]
         },
         "layout": {
          "annotationdefaults": {
           "arrowcolor": "#2a3f5f",
           "arrowhead": 0,
           "arrowwidth": 1
          },
          "autotypenumbers": "strict",
          "coloraxis": {
           "colorbar": {
            "outlinewidth": 0,
            "ticks": ""
           }
          },
          "colorscale": {
           "diverging": [
            [
             0,
             "#8e0152"
            ],
            [
             0.1,
             "#c51b7d"
            ],
            [
             0.2,
             "#de77ae"
            ],
            [
             0.3,
             "#f1b6da"
            ],
            [
             0.4,
             "#fde0ef"
            ],
            [
             0.5,
             "#f7f7f7"
            ],
            [
             0.6,
             "#e6f5d0"
            ],
            [
             0.7,
             "#b8e186"
            ],
            [
             0.8,
             "#7fbc41"
            ],
            [
             0.9,
             "#4d9221"
            ],
            [
             1,
             "#276419"
            ]
           ],
           "sequential": [
            [
             0,
             "#0d0887"
            ],
            [
             0.1111111111111111,
             "#46039f"
            ],
            [
             0.2222222222222222,
             "#7201a8"
            ],
            [
             0.3333333333333333,
             "#9c179e"
            ],
            [
             0.4444444444444444,
             "#bd3786"
            ],
            [
             0.5555555555555556,
             "#d8576b"
            ],
            [
             0.6666666666666666,
             "#ed7953"
            ],
            [
             0.7777777777777778,
             "#fb9f3a"
            ],
            [
             0.8888888888888888,
             "#fdca26"
            ],
            [
             1,
             "#f0f921"
            ]
           ],
           "sequentialminus": [
            [
             0,
             "#0d0887"
            ],
            [
             0.1111111111111111,
             "#46039f"
            ],
            [
             0.2222222222222222,
             "#7201a8"
            ],
            [
             0.3333333333333333,
             "#9c179e"
            ],
            [
             0.4444444444444444,
             "#bd3786"
            ],
            [
             0.5555555555555556,
             "#d8576b"
            ],
            [
             0.6666666666666666,
             "#ed7953"
            ],
            [
             0.7777777777777778,
             "#fb9f3a"
            ],
            [
             0.8888888888888888,
             "#fdca26"
            ],
            [
             1,
             "#f0f921"
            ]
           ]
          },
          "colorway": [
           "#636efa",
           "#EF553B",
           "#00cc96",
           "#ab63fa",
           "#FFA15A",
           "#19d3f3",
           "#FF6692",
           "#B6E880",
           "#FF97FF",
           "#FECB52"
          ],
          "font": {
           "color": "#2a3f5f"
          },
          "geo": {
           "bgcolor": "white",
           "lakecolor": "white",
           "landcolor": "#E5ECF6",
           "showlakes": true,
           "showland": true,
           "subunitcolor": "white"
          },
          "hoverlabel": {
           "align": "left"
          },
          "hovermode": "closest",
          "mapbox": {
           "style": "light"
          },
          "paper_bgcolor": "white",
          "plot_bgcolor": "#E5ECF6",
          "polar": {
           "angularaxis": {
            "gridcolor": "white",
            "linecolor": "white",
            "ticks": ""
           },
           "bgcolor": "#E5ECF6",
           "radialaxis": {
            "gridcolor": "white",
            "linecolor": "white",
            "ticks": ""
           }
          },
          "scene": {
           "xaxis": {
            "backgroundcolor": "#E5ECF6",
            "gridcolor": "white",
            "gridwidth": 2,
            "linecolor": "white",
            "showbackground": true,
            "ticks": "",
            "zerolinecolor": "white"
           },
           "yaxis": {
            "backgroundcolor": "#E5ECF6",
            "gridcolor": "white",
            "gridwidth": 2,
            "linecolor": "white",
            "showbackground": true,
            "ticks": "",
            "zerolinecolor": "white"
           },
           "zaxis": {
            "backgroundcolor": "#E5ECF6",
            "gridcolor": "white",
            "gridwidth": 2,
            "linecolor": "white",
            "showbackground": true,
            "ticks": "",
            "zerolinecolor": "white"
           }
          },
          "shapedefaults": {
           "line": {
            "color": "#2a3f5f"
           }
          },
          "ternary": {
           "aaxis": {
            "gridcolor": "white",
            "linecolor": "white",
            "ticks": ""
           },
           "baxis": {
            "gridcolor": "white",
            "linecolor": "white",
            "ticks": ""
           },
           "bgcolor": "#E5ECF6",
           "caxis": {
            "gridcolor": "white",
            "linecolor": "white",
            "ticks": ""
           }
          },
          "title": {
           "x": 0.05
          },
          "xaxis": {
           "automargin": true,
           "gridcolor": "white",
           "linecolor": "white",
           "ticks": "",
           "title": {
            "standoff": 15
           },
           "zerolinecolor": "white",
           "zerolinewidth": 2
          },
          "yaxis": {
           "automargin": true,
           "gridcolor": "white",
           "linecolor": "white",
           "ticks": "",
           "title": {
            "standoff": 15
           },
           "zerolinecolor": "white",
           "zerolinewidth": 2
          }
         }
        },
        "title": {
         "text": "Candlestick Chart with Indicators and Trade Signals"
        },
        "xaxis": {
         "fixedrange": false,
         "rangeslider": {
          "visible": true
         },
         "title": {
          "text": "Datetime"
         },
         "type": "category"
        },
        "yaxis": {
         "fixedrange": false,
         "title": {
          "text": "Price"
         }
        }
       }
      }
     },
     "metadata": {},
     "output_type": "display_data"
    }
   ],
   "source": [
    "show_trades(price, trades, start_date=\"2025, 1, 1\", trade_number=4)"
   ]
  },
  {
   "cell_type": "code",
   "execution_count": 13,
   "metadata": {},
   "outputs": [
    {
     "data": {
      "image/png": "[encoded data removed]",
      "text/plain": [
       "<Figure size 1600x800 with 1 Axes>"
      ]
     },
     "metadata": {},
     "output_type": "display_data"
    }
   ],
   "source": [
    "plt.style.use(\"dark_background\")\n",
    "plt.rcParams[\"figure.figsize\"] = (16, 8)\n",
    "plt.rcParams.update({\"font.size\": 18})\n",
    "\n",
    "colours = [\"tab:olive\", \"tab:blue\", \"tab:purple\", \"tab:orange\", \"tab:green\", \"tab:cyan\", \"tab:red\", \"tab:gray\", \"tab:pink\"]\n",
    "\n",
    "for count, sym in enumerate(symbols):\n",
    "    plt.figure()\n",
    "    plt.title(f\"Performance of {sym}\")\n",
    "\n",
    "    legend_entries = []  # Store legend labels\n",
    "    colour_idx = 0  # To cycle through colors if needed\n",
    "\n",
    "    for atr_sl in sl_range:\n",
    "        for tp_ratio in tp_range:\n",
    "            for c, s in enumerate(systems):\n",
    "                # Generate a unique index for each (SL, TP) combination\n",
    "                result_idx = count * len(sl_range) * len(tp_range) + list(sl_range).index(atr_sl) * len(tp_range) + list(tp_range).index(tp_ratio)\n",
    "\n",
    "                if result_idx >= len(results):  \n",
    "                    continue  # Prevent out-of-bounds error\n",
    "\n",
    "                label = f\"{s} (SL={atr_sl}, TP={tp_ratio})\"  # Legend label\n",
    "                color = colours[colour_idx % len(colours)]  # Cycle through colors\n",
    "                \n",
    "                plt.plot(results[result_idx][f\"{s}_Bal\"], color=color, label=label)\n",
    "                legend_entries.append(label)\n",
    "\n",
    "                colour_idx += 1  # Move to next color\n",
    "\n",
    "    plt.legend(loc=\"upper center\", bbox_to_anchor=(0.5, -0.1), ncol=2)\n",
    "    plt.xlabel(\"Time\")\n",
    "    plt.ylabel(\"Balance\")\n",
    "    #plt.grid(True, linestyle=\"--\", alpha=0.5)\n",
    "    plt.savefig(\"plot.png\", format=\"png\", dpi=300, bbox_inches=\"tight\")\n",
    "    plt.show()\n",
    "\n",
    "\n"
   ]
  },
  {
   "cell_type": "code",
   "execution_count": 14,
   "metadata": {},
   "outputs": [
    {
     "name": "stdout",
     "output_type": "stream",
     "text": [
      "                          Strat\n",
      "Start_Balance            100.00\n",
      "Final_Balance           1167.19\n",
      "Annual_Return             61.97\n",
      "Max_Drawdown             -27.70\n",
      "Sharpe                     0.73\n",
      "Sortino                    1.27\n",
      "Trades                   736.00\n",
      "Winrate                   47.35\n",
      "Avg_RR                     1.50\n",
      "Longest_Trade_Duration     6.00\n",
      "Avg_Trade_Duration         1.26\n"
     ]
    }
   ],
   "source": [
    "print(sys_metrics_df)"
   ]
  },
  {
   "cell_type": "code",
   "execution_count": 15,
   "metadata": {},
   "outputs": [
    {
     "name": "stdout",
     "output_type": "stream",
     "text": [
      "            Average_Return_Percentage  Trades_Count\n",
      "Entry_Hour                                         \n",
      "10                           0.358597           594\n",
      "11                           0.411333           141\n"
     ]
    }
   ],
   "source": [
    "# Split index into 'Date' and 'Time' columns\n",
    "trades['Entry_Date'] = pd.to_datetime(trades[\"Entry_Date\"])\n",
    "trades['Entry_Hour'] = trades['Entry_Date'].dt.hour\n",
    "\n",
    "# Convert \"Strat_Breakout_Return\" to percentage\n",
    "trades[\"Return_Percentage\"] = (trades[f\"{systems[-1]}_Return\"] - 1) * 100\n",
    "\n",
    "# Group by Hour and Calculate Average PnL\n",
    "hourly_return = trades.groupby(\"Entry_Hour\")[\"Return_Percentage\"].mean()\n",
    "\n",
    "# Group by Hour and Count Number of Trades\n",
    "hourly_trades_count = trades.groupby(\"Entry_Hour\")[\"Return_Percentage\"].count()\n",
    "\n",
    "# Combine the two results into a single DataFrame\n",
    "hourly_stats = pd.DataFrame({\n",
    "    \"Average_Return_Percentage\": hourly_return,\n",
    "    \"Trades_Count\": hourly_trades_count\n",
    "})\n",
    "\n",
    "# Display Result\n",
    "print(hourly_stats)"
   ]
  },
  {
   "cell_type": "code",
   "execution_count": 16,
   "metadata": {},
   "outputs": [],
   "source": [
    "trades.to_csv(\"trades.csv\")\n",
    "result.to_csv(\"result.csv\")"
   ]
  }
 ],
 "metadata": {
  "kernelspec": {
   "display_name": "Python 3",
   "language": "python",
   "name": "python3"
  },
  "language_info": {
   "codemirror_mode": {
    "name": "ipython",
    "version": 3
   },
   "file_extension": ".py",
   "mimetype": "text/x-python",
   "name": "python",
   "nbconvert_exporter": "python",
   "pygments_lexer": "ipython3",
   "version": "3.13.2"
  }
 },
 "nbformat": 4,
 "nbformat_minor": 2
}
